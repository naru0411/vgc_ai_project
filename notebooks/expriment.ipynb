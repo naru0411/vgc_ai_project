{
 "cells": [
  {
   "cell_type": "code",
   "execution_count": 1,
   "id": "13ba4afc-cdf1-4203-a323-6162e1f5d52e",
   "metadata": {},
   "outputs": [
    {
     "name": "stdout",
     "output_type": "stream",
     "text": [
      "[0.         0.8        0.         0.33333333 0.66666667 0.66666667\n",
      " 1.        ]\n"
     ]
    }
   ],
   "source": [
    "import numpy as np\n",
    "\n",
    "#ポケモン一体の状態ベクトル化\n",
    "def encode_pokemon(pokemon):\n",
    "    #pokemonは辞書型で受け取る\n",
    "    species_dict = {'ピカチュウ': 0, 'リザードン': 1, 'カビゴン': 2} #種族ID割り振り\n",
    "\n",
    "    species_id = species_dict.get(pokemon['species'], -1)\n",
    "    hp_ratio = pokemon['hp_ratio']\n",
    "    status_map = {'なし': 0, 'まひ': 1, 'やけど': 2}\n",
    "    status_id = status_map.get(pokemon['status'], 0)\n",
    "    pp = np.array(pokemon['pp']) / 15  # PP最大15として正規化\n",
    "\n",
    "    # ベクトル結合\n",
    "    vector = np.array([species_id, hp_ratio, status_id])\n",
    "    vector = np.concatenate([vector, pp])\n",
    "    return vector\n",
    "\n",
    "# テスト\n",
    "poke_example = {'species': 'ピカチュウ', 'hp_ratio': 0.8, 'status': 'なし', 'pp': [5, 10, 10, 15]}\n",
    "print(encode_pokemon(poke_example))"
   ]
  },
  {
   "cell_type": "code",
   "execution_count": 2,
   "id": "9b353ce1-8db7-4291-9ee8-782e5f91cfdc",
   "metadata": {},
   "outputs": [],
   "source": [
    "import numpy as np\n",
    "\n",
    "def encode_pokemon(pokemon, species_dict, type_dict, ability_dict, item_dict):\n",
    "    #種族(one-hot)\n",
    "    species_vector = np.zeros(len(species_dict))\n",
    "    if pokemon['species'] in species_dict:\n",
    "        species_vector[species_dict[pokemon['species']]] = 1\n",
    "\n",
    "    #HP\n",
    "    hp_vector = np.array([pokemon['hp_ratio']]) #0.0~1.0\n",
    "\n",
    "    #状態異常\n",
    "    status_map = {'none': 0, 'par': 1, 'brn': 2, 'slp': 3, 'frz': 4, 'psn': 5, 'tox': 6}\n",
    "    status_vector = np.zeros(len(status_map))\n",
    "    if pokemon['status'] in status_map:\n",
    "        status_vector[status_map[pokemon['status']]] = 1\n",
    "    sleep_turns = np.array([pokemon.get('sleep_turns', 0) / 3])  # 最大3ターン仮定\n",
    "\n",
    "    #技情報\n",
    "    moves_vector = []\n",
    "    for move in pokemon['moves']:\n",
    "        type_id = type_dict.get(move['type'], 0)\n",
    "        move_vec = [\n",
    "            type_id / len(type_dict),       # タイプID正規化\n",
    "            move['power'] / 250 if move['power'] else 0,  # 威力（最大250想定）\n",
    "            move['priority'],               # 優先度（-7〜+5）\n",
    "            move['pp'] / move['max_pp'],    # 残PP割合\n",
    "            move['accuracy'] / 100 if move['accuracy'] else 1  # 命中率\n",
    "        ]\n",
    "        moves_vector.extend(move_vec)\n",
    "    moves_vector = np.array(moves_vector)\n",
    "\n",
    "    # 能力ランク（-6〜+6 → 0〜1に正規化） \n",
    "    stat_stages = np.array([(s + 6) / 12 for s in pokemon['stat_stages']])\n",
    "\n",
    "    # 特性（one-hot）\n",
    "    ability_vector = np.zeros(len(ability_dict))\n",
    "    if pokemon['ability'] in ability_dict:\n",
    "        ability_vector[ability_dict[pokemon['ability']]] = 1\n",
    "\n",
    "    # 持ち物（one-hot)\n",
    "    item_vector = np.zeros(len(item_dict))\n",
    "    if pokemon['item'] in item_dict:\n",
    "        item_vector[item_dict[pokemon['item']]] = 1\n",
    "\n",
    "    # 結合\n",
    "    return np.concatenate([\n",
    "        species_vector,\n",
    "        hp_vector,\n",
    "        status_vector,\n",
    "        sleep_turns,\n",
    "        moves_vector,\n",
    "        stat_stages,\n",
    "        ability_vector,\n",
    "        item_vector\n",
    "    ])"
   ]
  },
  {
   "cell_type": "code",
   "execution_count": null,
   "id": "43ff035c-20a0-4545-aa2b-773dcf2b830b",
   "metadata": {},
   "outputs": [],
   "source": []
  }
 ],
 "metadata": {
  "kernelspec": {
   "display_name": "Python [conda env:base] *",
   "language": "python",
   "name": "conda-base-py"
  },
  "language_info": {
   "codemirror_mode": {
    "name": "ipython",
    "version": 3
   },
   "file_extension": ".py",
   "mimetype": "text/x-python",
   "name": "python",
   "nbconvert_exporter": "python",
   "pygments_lexer": "ipython3",
   "version": "3.12.7"
  }
 },
 "nbformat": 4,
 "nbformat_minor": 5
}
