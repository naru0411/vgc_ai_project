{
 "cells": [
  {
   "cell_type": "code",
   "execution_count": 1,
   "id": "13ba4afc-cdf1-4203-a323-6162e1f5d52e",
   "metadata": {},
   "outputs": [
    {
     "name": "stdout",
     "output_type": "stream",
     "text": [
      "[0.         0.8        0.         0.33333333 0.66666667 0.66666667\n",
      " 1.        ]\n"
     ]
    }
   ],
   "source": [
    "import numpy as np\n",
    "\n",
    "#ポケモン一体の状態ベクトル化\n",
    "def encode_pokemon(pokemon):\n",
    "    #pokemonは辞書型で受け取る\n",
    "    species_dict = {'ピカチュウ': 0, 'リザードン': 1, 'カビゴン': 2} #種族ID割り振り\n",
    "\n",
    "    species_id = species_dict.get(pokemon['species'], -1)\n",
    "    hp_ratio = pokemon['hp_ratio']\n",
    "    status_map = {'なし': 0, 'まひ': 1, 'やけど': 2}\n",
    "    status_id = status_map.get(pokemon['status'], 0)\n",
    "    pp = np.array(pokemon['pp']) / 15  # PP最大15として正規化\n",
    "\n",
    "    # ベクトル結合\n",
    "    vector = np.array([species_id, hp_ratio, status_id])\n",
    "    vector = np.concatenate([vector, pp])\n",
    "    return vector\n",
    "\n",
    "# テスト\n",
    "poke_example = {'species': 'ピカチュウ', 'hp_ratio': 0.8, 'status': 'なし', 'pp': [5, 10, 10, 15]}\n",
    "print(encode_pokemon(poke_example))"
   ]
  },
  {
   "cell_type": "code",
   "execution_count": null,
   "id": "9b353ce1-8db7-4291-9ee8-782e5f91cfdc",
   "metadata": {},
   "outputs": [],
   "source": []
  }
 ],
 "metadata": {
  "kernelspec": {
   "display_name": "Python 3 (ipykernel)",
   "language": "python",
   "name": "python3"
  },
  "language_info": {
   "codemirror_mode": {
    "name": "ipython",
    "version": 3
   },
   "file_extension": ".py",
   "mimetype": "text/x-python",
   "name": "python",
   "nbconvert_exporter": "python",
   "pygments_lexer": "ipython3",
   "version": "3.12.7"
  }
 },
 "nbformat": 4,
 "nbformat_minor": 5
}
